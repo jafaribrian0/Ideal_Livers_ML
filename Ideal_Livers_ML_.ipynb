{
 "cells": [
  {
   "cell_type": "code",
   "execution_count": 1,
   "id": "4de4ad83-e0ea-4c89-af0d-04040416c6f9",
   "metadata": {},
   "outputs": [],
   "source": [
    "import pickle\n",
    "import pandas as pd\n",
    "import numpy as np\n",
    "import pycaret\n",
    "import catboost\n",
    "import seaborn as sns\n",
    "import matplotlib.pyplot as plt\n",
    "from sklearn.metrics import confusion_matrix\n",
    "from sklearn.metrics import accuracy_score, precision_score, recall_score, f1_score, roc_auc_score, confusion_matrix"
   ]
  },
  {
   "cell_type": "code",
   "execution_count": 2,
   "id": "227636a4-9772-4b3e-978a-4dd2ac456e1f",
   "metadata": {},
   "outputs": [],
   "source": [
    "from ydata_profiling import ProfileReport"
   ]
  },
  {
   "cell_type": "code",
   "execution_count": 3,
   "id": "53d312d0-ad37-4cce-aac2-ec6c94fbaf09",
   "metadata": {},
   "outputs": [],
   "source": [
    "#loading model\n",
    "with open('1yr_graft.pkl', 'rb') as file:\n",
    "    model = pickle.load(file)"
   ]
  },
  {
   "cell_type": "code",
   "execution_count": 4,
   "id": "b4cdf6d2-2945-4d37-b0c1-94154e28b302",
   "metadata": {
    "scrolled": true
   },
   "outputs": [
    {
     "data": {
      "text/plain": [
       "['_Pipeline__memory_full_transform',\n",
       " '__abstractmethods__',\n",
       " '__annotations__',\n",
       " '__class__',\n",
       " '__delattr__',\n",
       " '__dict__',\n",
       " '__dir__',\n",
       " '__doc__',\n",
       " '__eq__',\n",
       " '__format__',\n",
       " '__ge__',\n",
       " '__getattr__',\n",
       " '__getattribute__',\n",
       " '__getitem__',\n",
       " '__getstate__',\n",
       " '__gt__',\n",
       " '__hash__',\n",
       " '__init__',\n",
       " '__init_subclass__',\n",
       " '__le__',\n",
       " '__len__',\n",
       " '__lt__',\n",
       " '__module__',\n",
       " '__ne__',\n",
       " '__new__',\n",
       " '__reduce__',\n",
       " '__reduce_ex__',\n",
       " '__repr__',\n",
       " '__setattr__',\n",
       " '__setstate__',\n",
       " '__sizeof__',\n",
       " '__sklearn_clone__',\n",
       " '__sklearn_is_fitted__',\n",
       " '__str__',\n",
       " '__subclasshook__',\n",
       " '__weakref__',\n",
       " '_abc_impl',\n",
       " '_build_request_for_signature',\n",
       " '_cache_full_transform',\n",
       " '_can_fit_resample',\n",
       " '_can_fit_transform',\n",
       " '_can_inverse_transform',\n",
       " '_can_transform',\n",
       " '_check_feature_names',\n",
       " '_check_method_params',\n",
       " '_check_n_features',\n",
       " '_clear_final_estimator_fit_vars',\n",
       " '_doc_link_module',\n",
       " '_doc_link_template',\n",
       " '_doc_link_url_param_generator',\n",
       " '_estimator_type',\n",
       " '_feature_names_in',\n",
       " '_final_estimator',\n",
       " '_fit',\n",
       " '_fit_vars',\n",
       " '_get_default_requests',\n",
       " '_get_doc_link',\n",
       " '_get_metadata_request',\n",
       " '_get_param_names',\n",
       " '_get_params',\n",
       " '_get_tags',\n",
       " '_iter',\n",
       " '_log_message',\n",
       " '_memory',\n",
       " '_memory_fit',\n",
       " '_memory_full_transform',\n",
       " '_memory_transform',\n",
       " '_more_tags',\n",
       " '_parameter_constraints',\n",
       " '_pycaret_versions',\n",
       " '_replace_estimator',\n",
       " '_repr_html_',\n",
       " '_repr_html_inner',\n",
       " '_repr_mimebundle_',\n",
       " '_required_parameters',\n",
       " '_set_params',\n",
       " '_sk_visual_block_',\n",
       " '_validate_data',\n",
       " '_validate_names',\n",
       " '_validate_params',\n",
       " '_validate_steps',\n",
       " 'classes_',\n",
       " 'decision_function',\n",
       " 'feature_names_in_',\n",
       " 'fit',\n",
       " 'fit_predict',\n",
       " 'fit_resample',\n",
       " 'fit_transform',\n",
       " 'get_feature_names_out',\n",
       " 'get_metadata_routing',\n",
       " 'get_params',\n",
       " 'get_sklearn_pipeline',\n",
       " 'inverse_transform',\n",
       " 'memory',\n",
       " 'n_features_in_',\n",
       " 'named_steps',\n",
       " 'partial_fit',\n",
       " 'predict',\n",
       " 'predict_log_proba',\n",
       " 'predict_proba',\n",
       " 'replace_final_estimator',\n",
       " 'score',\n",
       " 'score_samples',\n",
       " 'set_output',\n",
       " 'set_params',\n",
       " 'set_partial_fit_request',\n",
       " 'set_score_request',\n",
       " 'set_transform_request',\n",
       " 'steps',\n",
       " 'transform',\n",
       " 'verbose']"
      ]
     },
     "execution_count": 4,
     "metadata": {},
     "output_type": "execute_result"
    }
   ],
   "source": [
    "#model methods\n",
    "dir(model)"
   ]
  },
  {
   "cell_type": "code",
   "execution_count": 5,
   "id": "08587392-defd-4afe-8f54-4c90bce37587",
   "metadata": {
    "scrolled": true
   },
   "outputs": [
    {
     "data": {
      "text/plain": [
       "['year',\n",
       " 'recipient_status',\n",
       " 'recipient_age',\n",
       " 'recipient_bmi',\n",
       " 'recipient_sex',\n",
       " 'recipient_blood_type',\n",
       " 'recipient_rhesus_factor',\n",
       " 'MELD',\n",
       " 'cold_ischemia_time',\n",
       " 'donor_age',\n",
       " 'donor_bmi',\n",
       " 'donor_sex',\n",
       " 'donor_blood_type',\n",
       " 'donor_rhesus_factor',\n",
       " 'donor_region',\n",
       " 'donor_drugs',\n",
       " 'donor_alcohol',\n",
       " 'donor_alt',\n",
       " 'donor_ast',\n",
       " 'donor_ggt',\n",
       " 'donor_bili',\n",
       " 'donor_platelets',\n",
       " 'donor_sodium',\n",
       " '1yr_graft']"
      ]
     },
     "execution_count": 5,
     "metadata": {},
     "output_type": "execute_result"
    }
   ],
   "source": [
    "#training structure\n",
    "model.feature_names_in_"
   ]
  },
  {
   "cell_type": "code",
   "execution_count": 6,
   "id": "967aef6f-b454-4a77-82ed-95146c0a3283",
   "metadata": {},
   "outputs": [],
   "source": [
    "data = pd.read_stata('ml_dataset_limited.dta')"
   ]
  },
  {
   "cell_type": "code",
   "execution_count": 7,
   "id": "a98b9bd1-5451-4706-8828-f8e7c7baa9f5",
   "metadata": {},
   "outputs": [
    {
     "data": {
      "text/plain": [
       "Index(['year', 'recipient_status', 'recipient_age', 'recipient_bmi',\n",
       "       'recipient_sex', 'recipient_blood_type', 'recipient_rhesus_factor',\n",
       "       'MELD', 'cold_ischemia_time', 'donor_age', 'donor_bmi', 'donor_sex',\n",
       "       'donor_blood_type', 'donor_rhesus_factor', 'donor_region',\n",
       "       'donor_alcohol', 'donor_alt', 'donor_ast', 'donor_ggt', 'donor_bili',\n",
       "       'donor_platelets', 'donor_sodium', 'graft_1yr', 'donor_drugs'],\n",
       "      dtype='object')"
      ]
     },
     "execution_count": 7,
     "metadata": {},
     "output_type": "execute_result"
    }
   ],
   "source": [
    "data.columns"
   ]
  },
  {
   "cell_type": "code",
   "execution_count": 8,
   "id": "e915b512-8658-4684-b0cf-c4be6c8320f5",
   "metadata": {},
   "outputs": [],
   "source": [
    "#changing col name bc STATA\n",
    "data = data.rename(columns={'graft_1yr' : '1yr_graft'})"
   ]
  },
  {
   "cell_type": "code",
   "execution_count": 9,
   "id": "ce02ed67-b64c-491d-baeb-d1ddbb343e8b",
   "metadata": {},
   "outputs": [],
   "source": [
    "#running the model\n",
    "pred= model.predict(data)"
   ]
  },
  {
   "cell_type": "code",
   "execution_count": 10,
   "id": "297f1d1b-251d-4499-8d96-0c920c35d9f4",
   "metadata": {},
   "outputs": [
    {
     "name": "stdout",
     "output_type": "stream",
     "text": [
      "Accuracy: 0.719\n",
      "Precision: 0.135\n",
      "Recall: 0.267\n",
      "F1 Score: 0.179\n",
      "ROC-AUC: 0.534\n"
     ]
    }
   ],
   "source": [
    "#metrics\n",
    "true = data['1yr_graft']\n",
    "\n",
    "accuracy = accuracy_score(true, pred)\n",
    "precision = precision_score(true, pred)\n",
    "recall = recall_score(true, pred)\n",
    "f1 = f1_score(true, pred)\n",
    "roc_auc = roc_auc_score(true, model.predict_proba(data)[:, 1])\n",
    "\n",
    "\n",
    "print(f'Accuracy: {accuracy:.3f}')\n",
    "print(f'Precision: {precision:.3f}')\n",
    "print(f'Recall: {recall:.3f}')\n",
    "print(f'F1 Score: {f1:.3f}')\n",
    "print(f'ROC-AUC: {roc_auc:.3f}')"
   ]
  },
  {
   "cell_type": "code",
   "execution_count": 11,
   "id": "ba0ca9cf-d58b-43af-8364-961697ee3ee8",
   "metadata": {},
   "outputs": [
    {
     "data": {
      "image/png": "[encoded data removed]",
      "text/plain": [
       "<Figure size 640x480 with 1 Axes>"
      ]
     },
     "metadata": {},
     "output_type": "display_data"
    }
   ],
   "source": [
    "#confusion matrix\n",
    "cm = confusion_matrix(true, pred)\n",
    "sns.heatmap(cm, annot=True, \n",
    "            fmt='d',\n",
    "            cmap='Blues',\n",
    "            xticklabels=['Predicted 0', 'Predicted 1'],\n",
    "            yticklabels=['Actual 0', 'Actual 1'],\n",
    "           cbar = False)\n",
    "plt.ylabel('Actual')\n",
    "plt.xlabel('Predicted')\n",
    "plt.title('Confusion Matrix')\n",
    "plt.show()"
   ]
  },
  {
   "cell_type": "code",
   "execution_count": 12,
   "id": "12e6ba1a-ddb9-4bea-b795-5427c2110f38",
   "metadata": {},
   "outputs": [],
   "source": [
    "output = pd.DataFrame({'true_1yr_graft' : true, 'predicted_1yr_graft' : pred})"
   ]
  },
  {
   "cell_type": "code",
   "execution_count": 13,
   "id": "3afb4b50-57ca-430e-935a-9841d42e7dac",
   "metadata": {},
   "outputs": [],
   "source": [
    "output.to_excel('model_output.xlsx', index=False)"
   ]
  },
  {
   "cell_type": "code",
   "execution_count": 18,
   "id": "0b257464-4191-487e-b8aa-ac5372937beb",
   "metadata": {},
   "outputs": [],
   "source": [
    "profile = ProfileReport(data, title=\"STAR Data Profile\", minimal=True )"
   ]
  },
  {
   "cell_type": "code",
   "execution_count": 19,
   "id": "cc70101b-4b97-4ca3-bb3b-09d9c4efed46",
   "metadata": {},
   "outputs": [
    {
     "data": {
      "application/vnd.jupyter.widget-view+json": {
       "model_id": "5320d8187b0546bca5c0660af50cbbf5",
       "version_major": 2,
       "version_minor": 0
      },
      "text/plain": [
       "Summarize dataset:   0%|          | 0/5 [00:00<?, ?it/s]"
      ]
     },
     "metadata": {},
     "output_type": "display_data"
    },
    {
     "data": {
      "application/vnd.jupyter.widget-view+json": {
       "model_id": "86136ebb6be74265bcbd4245aa2342cd",
       "version_major": 2,
       "version_minor": 0
      },
      "text/plain": [
       "Generate report structure:   0%|          | 0/1 [00:00<?, ?it/s]"
      ]
     },
     "metadata": {},
     "output_type": "display_data"
    },
    {
     "data": {
      "application/vnd.jupyter.widget-view+json": {
       "model_id": "3484142e857d44a9834c28d8dd583bef",
       "version_major": 2,
       "version_minor": 0
      },
      "text/plain": [
       "Render HTML:   0%|          | 0/1 [00:00<?, ?it/s]"
      ]
     },
     "metadata": {},
     "output_type": "display_data"
    },
    {
     "data": {
      "application/vnd.jupyter.widget-view+json": {
       "model_id": "59b33e8cdfde46ea9ac763516a0d07e6",
       "version_major": 2,
       "version_minor": 0
      },
      "text/plain": [
       "Export report to file:   0%|          | 0/1 [00:00<?, ?it/s]"
      ]
     },
     "metadata": {},
     "output_type": "display_data"
    }
   ],
   "source": [
    "profile.to_file(\"data_report.html\")"
   ]
  },
  {
   "cell_type": "code",
   "execution_count": null,
   "id": "25ff94ba-90f0-4adc-81f3-ec67350a2cac",
   "metadata": {},
   "outputs": [],
   "source": []
  }
 ],
 "metadata": {
  "kernelspec": {
   "display_name": "Python 3 (ipykernel)",
   "language": "python",
   "name": "python3"
  },
  "language_info": {
   "codemirror_mode": {
    "name": "ipython",
    "version": 3
   },
   "file_extension": ".py",
   "mimetype": "text/x-python",
   "name": "python",
   "nbconvert_exporter": "python",
   "pygments_lexer": "ipython3",
   "version": "3.11.8"
  }
 },
 "nbformat": 4,
 "nbformat_minor": 5
}
